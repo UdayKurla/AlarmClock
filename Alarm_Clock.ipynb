{
 "cells": [
  {
   "cell_type": "code",
   "execution_count": 3,
   "id": "c9b80452",
   "metadata": {},
   "outputs": [
    {
     "name": "stdout",
     "output_type": "stream",
     "text": [
      "Time to Wake up\n",
      "Time to Wake up\n",
      "Time to Wake up\n",
      "Time to Wake up\n",
      "Time to Wake up\n"
     ]
    }
   ],
   "source": [
    "from tkinter import *\n",
    "import datetime\n",
    "import time\n",
    "import winsound\n",
    "\n",
    "\n",
    "\n",
    "def alarm(set_alarm_timer):\n",
    "    while True:\n",
    "        time.sleep(1)\n",
    "        current_time = datetime.datetime.now()\n",
    "        now = current_time.strftime(\"%H:%M\")\n",
    "        if now == set_alarm_timer:\n",
    "            print(\"Time to Wake up\")\n",
    "            print(\"Time to Wake up\")\n",
    "            print(\"Time to Wake up\")\n",
    "            print(\"Time to Wake up\")\n",
    "            print(\"Time to Wake up\")\n",
    "            winsound.PlaySound(\"alarm1.wav\",winsound.SND_ASYNC)\n",
    "            break\n",
    "\n",
    "def act_time():\n",
    "    set_alarm_timer = f\"{hour.get()}:{min.get()}\"\n",
    "    alarm(set_alarm_timer)\n",
    "\n",
    "clock = Tk()\n",
    "clock.title(\"Alarm Clock\")\n",
    "clock.geometry(\"400x200\")\n",
    "time_format=Label(clock, text= \"Note: Enter time in 24 hour format\", fg=\"blue\",bg=\"grey\",font=\"Arial\").place(x=50,y=150)\n",
    "addTime = Label(clock,text = \"  Hour        Mins \",font=('Calibri',15, 'bold')).place(x = 120, y= 30)\n",
    "setYourAlarm = Label(clock,text = \"Wake Up Time: \",fg=\"blue\",font=(\"Calibri\",12,\"bold\")).place(x=0, y=60)\n",
    "\n",
    "# The Variables we require to set the alarm(initialization):\n",
    "hour = StringVar()\n",
    "min = StringVar()\n",
    "\n",
    "#Time required to set the alarm clock:\n",
    "hourTime= Entry(clock,textvariable = hour,bg = \"yellow\",width = 15).place(x=120,y=60)\n",
    "minTime= Entry(clock,textvariable = min,bg = \"yellow\",width = 15).place(x=200,y=60)\n",
    "\n",
    "#time input button by user:\n",
    "submit = Button(clock,text = \"Set Alarm\",fg=\"black\",width = 10,command = act_time).place(x =160,y=100)\n",
    "\n",
    "clock.mainloop()\n",
    "#Execution of the window."
   ]
  },
  {
   "cell_type": "code",
   "execution_count": null,
   "id": "6b2497b5",
   "metadata": {},
   "outputs": [],
   "source": []
  }
 ],
 "metadata": {
  "kernelspec": {
   "display_name": "Python 3 (ipykernel)",
   "language": "python",
   "name": "python3"
  },
  "language_info": {
   "codemirror_mode": {
    "name": "ipython",
    "version": 3
   },
   "file_extension": ".py",
   "mimetype": "text/x-python",
   "name": "python",
   "nbconvert_exporter": "python",
   "pygments_lexer": "ipython3",
   "version": "3.10.9"
  }
 },
 "nbformat": 4,
 "nbformat_minor": 5
}
